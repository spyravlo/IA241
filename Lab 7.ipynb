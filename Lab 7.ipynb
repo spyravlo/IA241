{
 "cells": [
  {
   "cell_type": "code",
   "execution_count": 3,
   "metadata": {},
   "outputs": [],
   "source": [
    "import xlwt        \n",
    "\n",
    "from collections import Counter        \n",
    "\n",
    "         \n",
    "\n",
    "book = xlwt.Workbook() # create a new excel file\n",
    "\n",
    "sheet_test = book.add_sheet('word_count') # add a new sheet\n",
    "\n",
    "i = 0\n",
    "\n",
    "sheet_test.write(i,0,'word') # write the header of the first column\n",
    "\n",
    "sheet_test.write(i,1,'count') # write the header of the second column\n",
    "\n",
    " \n",
    "\n",
    "with open('IA_jobs.txt','r') as jmu_news: # define the location of your txt file\n",
    "\n",
    "    count_result =  Counter(jmu_news.read().split()) \n",
    "\n",
    "    for result in count_result.most_common(20):\n",
    "\n",
    "        i = i+1 \n",
    "\n",
    "        sheet_test.write(i,0,result[0])\n",
    "\n",
    "        sheet_test.write(i,1,result[1])\n",
    "\n",
    " \n",
    "\n",
    "book.save('lab7_result.xls') # define where to save your excel file"
   ]
  },
  {
   "cell_type": "code",
   "execution_count": null,
   "metadata": {},
   "outputs": [],
   "source": []
  }
 ],
 "metadata": {
  "kernelspec": {
   "display_name": "conda_python3",
   "language": "python",
   "name": "conda_python3"
  },
  "language_info": {
   "codemirror_mode": {
    "name": "ipython",
    "version": 3
   },
   "file_extension": ".py",
   "mimetype": "text/x-python",
   "name": "python",
   "nbconvert_exporter": "python",
   "pygments_lexer": "ipython3",
   "version": "3.6.5"
  }
 },
 "nbformat": 4,
 "nbformat_minor": 4
}
